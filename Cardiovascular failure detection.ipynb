{
 "cells": [
  {
   "cell_type": "markdown",
   "id": "6205de71",
   "metadata": {},
   "source": [
    "# Cardiovascular Failure Prediction"
   ]
  },
  {
   "cell_type": "code",
   "execution_count": 8,
   "id": "638c8a6c",
   "metadata": {},
   "outputs": [],
   "source": [
    "import pandas as pd\n",
    "import numpy as np\n",
    "from collections import Counter\n",
    "\n",
    "from sklearn.preprocessing import StandardScaler, LabelEncoder\n",
    "from sklearn.model_selection import train_test_split\n",
    "from sklearn.compose import ColumnTransformer\n",
    "from sklearn.metrics import classification_report\n",
    "\n",
    "\n",
    "from tensorflow.keras.models import Sequential\n",
    "from tensorflow.keras.layers import InputLayer, Dense\n",
    "from tensorflow.keras.utils import to_categorical"
   ]
  },
  {
   "cell_type": "code",
   "execution_count": 9,
   "id": "6555ba04",
   "metadata": {},
   "outputs": [],
   "source": [
    "#dataset is from kaggle \n",
    "#https://www.kaggle.com/datasets/andrewmvd/heart-failure-clinical-data\n",
    "#CVD (Cardiovascular disease) is number one cause of death in the world\n",
    "#ML model could help detect cardiovascular failure earlier for those \n",
    "#with higher risks or factors such as hypertension or diabetes"
   ]
  },
  {
   "cell_type": "markdown",
   "id": "62e8cc5f",
   "metadata": {},
   "source": [
    "#### Loading Dataset"
   ]
  },
  {
   "cell_type": "code",
   "execution_count": null,
   "id": "97647ded",
   "metadata": {},
   "outputs": [],
   "source": [
    "dataset = pd.read_csv(\"\")"
   ]
  }
 ],
 "metadata": {
  "kernelspec": {
   "display_name": "Python 3 (ipykernel)",
   "language": "python",
   "name": "python3"
  },
  "language_info": {
   "codemirror_mode": {
    "name": "ipython",
    "version": 3
   },
   "file_extension": ".py",
   "mimetype": "text/x-python",
   "name": "python",
   "nbconvert_exporter": "python",
   "pygments_lexer": "ipython3",
   "version": "3.8.13"
  }
 },
 "nbformat": 4,
 "nbformat_minor": 5
}
