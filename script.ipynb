{
 "cells": [
  {
   "cell_type": "markdown",
   "id": "6205de71",
   "metadata": {},
   "source": [
    "# Cardiovascular Failure Prediction"
   ]
  },
  {
   "cell_type": "code",
   "execution_count": 200,
   "id": "638c8a6c",
   "metadata": {},
   "outputs": [],
   "source": [
    "import pandas as pd\n",
    "import numpy as np\n",
    "from collections import Counter\n",
    "\n",
    "from sklearn.preprocessing import StandardScaler, LabelEncoder, Normalizer\n",
    "from sklearn.model_selection import train_test_split\n",
    "from sklearn.compose import ColumnTransformer\n",
    "from sklearn.metrics import classification_report\n",
    "\n",
    "\n",
    "from tensorflow.keras.models import Sequential\n",
    "from tensorflow.keras.layers import InputLayer, Dense\n",
    "from tensorflow.keras.utils import to_categorical"
   ]
  },
  {
   "cell_type": "code",
   "execution_count": 201,
   "id": "6555ba04",
   "metadata": {},
   "outputs": [],
   "source": [
    "#dataset is from kaggle \n",
    "#https://www.kaggle.com/datasets/andrewmvd/heart-failure-clinical-data\n",
    "#CVD (Cardiovascular disease) is number one cause of death in the world\n",
    "#ML model could help detect cardiovascular failure earlier for those \n",
    "#with higher risks or factors such as hypertension or diabetes"
   ]
  },
  {
   "cell_type": "markdown",
   "id": "62e8cc5f",
   "metadata": {},
   "source": [
    "#### Loading Dataset"
   ]
  },
  {
   "cell_type": "code",
   "execution_count": 202,
   "id": "97647ded",
   "metadata": {},
   "outputs": [
    {
     "name": "stdout",
     "output_type": "stream",
     "text": [
      "<class 'pandas.core.frame.DataFrame'>\n",
      "RangeIndex: 299 entries, 0 to 298\n",
      "Data columns (total 15 columns):\n",
      " #   Column                    Non-Null Count  Dtype  \n",
      "---  ------                    --------------  -----  \n",
      " 0   sl                        299 non-null    int64  \n",
      " 1   age                       299 non-null    float64\n",
      " 2   anaemia                   299 non-null    object \n",
      " 3   creatinine_phosphokinase  299 non-null    int64  \n",
      " 4   diabetes                  299 non-null    object \n",
      " 5   ejection_fraction         299 non-null    int64  \n",
      " 6   high_blood_pressure       299 non-null    object \n",
      " 7   platelets                 299 non-null    float64\n",
      " 8   serum_creatinine          299 non-null    float64\n",
      " 9   serum_sodium              299 non-null    int64  \n",
      " 10  sex                       299 non-null    object \n",
      " 11  smoking                   299 non-null    object \n",
      " 12  time                      299 non-null    int64  \n",
      " 13  DEATH_EVENT               299 non-null    int64  \n",
      " 14  death_event               299 non-null    object \n",
      "dtypes: float64(3), int64(6), object(6)\n",
      "memory usage: 35.2+ KB\n"
     ]
    }
   ],
   "source": [
    "data = pd.read_csv(\"heart_failure_clinical_records_dataset.csv\")\n",
    "data.info()\n",
    "data.head(10)\n",
    "data = data.drop([\"sl\"], axis=1)"
   ]
  },
  {
   "cell_type": "code",
   "execution_count": 204,
   "id": "3e9b1f6a",
   "metadata": {},
   "outputs": [
    {
     "data": {
      "text/plain": [
       "Counter({'yes': 96, 'no': 203})"
      ]
     },
     "execution_count": 204,
     "metadata": {},
     "output_type": "execute_result"
    }
   ],
   "source": [
    "data.head(10)\n",
    "Counter(data[\"death_event\"])\n",
    "#this gives the number of labels with yes and no"
   ]
  },
  {
   "cell_type": "code",
   "execution_count": 205,
   "id": "ea600be3",
   "metadata": {},
   "outputs": [],
   "source": [
    "#selecting the features and labels\n",
    "x = data[['age','anaemia','creatinine_phosphokinase','diabetes','ejection_fraction','high_blood_pressure','platelets','serum_creatinine','serum_sodium','sex','smoking','time']]\n",
    "# x.columns\n",
    "y = data[\"death_event\"]"
   ]
  },
  {
   "cell_type": "markdown",
   "id": "b620f7b8",
   "metadata": {},
   "source": [
    "#### Data Preprocessing"
   ]
  },
  {
   "cell_type": "code",
   "execution_count": 236,
   "id": "82626ea0",
   "metadata": {},
   "outputs": [
    {
     "data": {
      "text/plain": [
       "Index(['age', 'creatinine_phosphokinase', 'ejection_fraction', 'platelets',\n",
       "       'serum_creatinine', 'serum_sodium', 'time', 'anaemia_no', 'anaemia_yes',\n",
       "       'diabetes_no', 'diabetes_yes', 'high_blood_pressure_no',\n",
       "       'high_blood_pressure_yes', 'sex_no', 'sex_yes', 'smoking_no',\n",
       "       'smoking_yes'],\n",
       "      dtype='object')"
      ]
     },
     "execution_count": 236,
     "metadata": {},
     "output_type": "execute_result"
    }
   ],
   "source": [
    "x = pd.get_dummies(x)\n",
    "x.columns"
   ]
  },
  {
   "cell_type": "code",
   "execution_count": 237,
   "id": "d4dcc5b6",
   "metadata": {},
   "outputs": [],
   "source": [
    "train_set, test_set, train_label, test_label = train_test_split(x, y, test_size=0.3, random_state=0)"
   ]
  },
  {
   "cell_type": "code",
   "execution_count": 238,
   "id": "a34d2ac6",
   "metadata": {},
   "outputs": [],
   "source": [
    "#normalisation or standardisation\n",
    "numerical_columns = ['age','creatinine_phosphokinase','ejection_fraction','platelets','serum_creatinine','serum_sodium','time']"
   ]
  },
  {
   "cell_type": "code",
   "execution_count": 239,
   "id": "83ea5f62",
   "metadata": {},
   "outputs": [],
   "source": [
    "ct = ColumnTransformer([('normalize', Normalizer(), numerical_columns)], remainder=\"passthrough\")"
   ]
  },
  {
   "cell_type": "code",
   "execution_count": 240,
   "id": "73b772b1",
   "metadata": {},
   "outputs": [],
   "source": [
    "train_normalised = ct.fit_transform(train_set)\n",
    "test_normalised = ct.transform(test_set)"
   ]
  },
  {
   "cell_type": "code",
   "execution_count": 241,
   "id": "c9f39b60",
   "metadata": {},
   "outputs": [
    {
     "data": {
      "text/html": [
       "<div>\n",
       "<style scoped>\n",
       "    .dataframe tbody tr th:only-of-type {\n",
       "        vertical-align: middle;\n",
       "    }\n",
       "\n",
       "    .dataframe tbody tr th {\n",
       "        vertical-align: top;\n",
       "    }\n",
       "\n",
       "    .dataframe thead th {\n",
       "        text-align: right;\n",
       "    }\n",
       "</style>\n",
       "<table border=\"1\" class=\"dataframe\">\n",
       "  <thead>\n",
       "    <tr style=\"text-align: right;\">\n",
       "      <th></th>\n",
       "      <th>age</th>\n",
       "      <th>creatinine_phosphokinase</th>\n",
       "      <th>ejection_fraction</th>\n",
       "      <th>platelets</th>\n",
       "      <th>serum_creatinine</th>\n",
       "      <th>serum_sodium</th>\n",
       "      <th>time</th>\n",
       "      <th>anaemia_no</th>\n",
       "      <th>anaemia_yes</th>\n",
       "      <th>diabetes_no</th>\n",
       "      <th>diabetes_yes</th>\n",
       "      <th>high_blood_pressure_no</th>\n",
       "      <th>high_blood_pressure_yes</th>\n",
       "      <th>sex_no</th>\n",
       "      <th>sex_yes</th>\n",
       "      <th>smoking_no</th>\n",
       "      <th>smoking_yes</th>\n",
       "    </tr>\n",
       "  </thead>\n",
       "  <tbody>\n",
       "    <tr>\n",
       "      <th>0</th>\n",
       "      <td>0.001372</td>\n",
       "      <td>0.011411</td>\n",
       "      <td>0.000784</td>\n",
       "      <td>0.999918</td>\n",
       "      <td>0.000053</td>\n",
       "      <td>0.002666</td>\n",
       "      <td>0.004902</td>\n",
       "      <td>1.0</td>\n",
       "      <td>0.0</td>\n",
       "      <td>1.0</td>\n",
       "      <td>0.0</td>\n",
       "      <td>1.0</td>\n",
       "      <td>0.0</td>\n",
       "      <td>0.0</td>\n",
       "      <td>1.0</td>\n",
       "      <td>0.0</td>\n",
       "      <td>1.0</td>\n",
       "    </tr>\n",
       "    <tr>\n",
       "      <th>1</th>\n",
       "      <td>0.000309</td>\n",
       "      <td>0.003031</td>\n",
       "      <td>0.000309</td>\n",
       "      <td>0.999995</td>\n",
       "      <td>0.000006</td>\n",
       "      <td>0.000732</td>\n",
       "      <td>0.000170</td>\n",
       "      <td>0.0</td>\n",
       "      <td>1.0</td>\n",
       "      <td>0.0</td>\n",
       "      <td>1.0</td>\n",
       "      <td>1.0</td>\n",
       "      <td>0.0</td>\n",
       "      <td>1.0</td>\n",
       "      <td>0.0</td>\n",
       "      <td>1.0</td>\n",
       "      <td>0.0</td>\n",
       "    </tr>\n",
       "    <tr>\n",
       "      <th>2</th>\n",
       "      <td>0.000261</td>\n",
       "      <td>0.002337</td>\n",
       "      <td>0.000120</td>\n",
       "      <td>0.999997</td>\n",
       "      <td>0.000005</td>\n",
       "      <td>0.000546</td>\n",
       "      <td>0.000851</td>\n",
       "      <td>1.0</td>\n",
       "      <td>0.0</td>\n",
       "      <td>0.0</td>\n",
       "      <td>1.0</td>\n",
       "      <td>1.0</td>\n",
       "      <td>0.0</td>\n",
       "      <td>0.0</td>\n",
       "      <td>1.0</td>\n",
       "      <td>0.0</td>\n",
       "      <td>1.0</td>\n",
       "    </tr>\n",
       "    <tr>\n",
       "      <th>3</th>\n",
       "      <td>0.000145</td>\n",
       "      <td>0.000887</td>\n",
       "      <td>0.000164</td>\n",
       "      <td>0.999999</td>\n",
       "      <td>0.000003</td>\n",
       "      <td>0.000509</td>\n",
       "      <td>0.000633</td>\n",
       "      <td>1.0</td>\n",
       "      <td>0.0</td>\n",
       "      <td>1.0</td>\n",
       "      <td>0.0</td>\n",
       "      <td>0.0</td>\n",
       "      <td>1.0</td>\n",
       "      <td>1.0</td>\n",
       "      <td>0.0</td>\n",
       "      <td>1.0</td>\n",
       "      <td>0.0</td>\n",
       "    </tr>\n",
       "    <tr>\n",
       "      <th>4</th>\n",
       "      <td>0.000272</td>\n",
       "      <td>0.000625</td>\n",
       "      <td>0.000245</td>\n",
       "      <td>0.999999</td>\n",
       "      <td>0.000005</td>\n",
       "      <td>0.000728</td>\n",
       "      <td>0.000641</td>\n",
       "      <td>1.0</td>\n",
       "      <td>0.0</td>\n",
       "      <td>1.0</td>\n",
       "      <td>0.0</td>\n",
       "      <td>0.0</td>\n",
       "      <td>1.0</td>\n",
       "      <td>0.0</td>\n",
       "      <td>1.0</td>\n",
       "      <td>0.0</td>\n",
       "      <td>1.0</td>\n",
       "    </tr>\n",
       "    <tr>\n",
       "      <th>...</th>\n",
       "      <td>...</td>\n",
       "      <td>...</td>\n",
       "      <td>...</td>\n",
       "      <td>...</td>\n",
       "      <td>...</td>\n",
       "      <td>...</td>\n",
       "      <td>...</td>\n",
       "      <td>...</td>\n",
       "      <td>...</td>\n",
       "      <td>...</td>\n",
       "      <td>...</td>\n",
       "      <td>...</td>\n",
       "      <td>...</td>\n",
       "      <td>...</td>\n",
       "      <td>...</td>\n",
       "      <td>...</td>\n",
       "      <td>...</td>\n",
       "    </tr>\n",
       "    <tr>\n",
       "      <th>204</th>\n",
       "      <td>0.000238</td>\n",
       "      <td>0.002476</td>\n",
       "      <td>0.000152</td>\n",
       "      <td>0.999996</td>\n",
       "      <td>0.000003</td>\n",
       "      <td>0.000619</td>\n",
       "      <td>0.000931</td>\n",
       "      <td>1.0</td>\n",
       "      <td>0.0</td>\n",
       "      <td>0.0</td>\n",
       "      <td>1.0</td>\n",
       "      <td>1.0</td>\n",
       "      <td>0.0</td>\n",
       "      <td>1.0</td>\n",
       "      <td>0.0</td>\n",
       "      <td>1.0</td>\n",
       "      <td>0.0</td>\n",
       "    </tr>\n",
       "    <tr>\n",
       "      <th>205</th>\n",
       "      <td>0.000192</td>\n",
       "      <td>0.000465</td>\n",
       "      <td>0.000154</td>\n",
       "      <td>1.000000</td>\n",
       "      <td>0.000003</td>\n",
       "      <td>0.000500</td>\n",
       "      <td>0.000673</td>\n",
       "      <td>0.0</td>\n",
       "      <td>1.0</td>\n",
       "      <td>0.0</td>\n",
       "      <td>1.0</td>\n",
       "      <td>1.0</td>\n",
       "      <td>0.0</td>\n",
       "      <td>0.0</td>\n",
       "      <td>1.0</td>\n",
       "      <td>1.0</td>\n",
       "      <td>0.0</td>\n",
       "    </tr>\n",
       "    <tr>\n",
       "      <th>206</th>\n",
       "      <td>0.000168</td>\n",
       "      <td>0.000201</td>\n",
       "      <td>0.000118</td>\n",
       "      <td>1.000000</td>\n",
       "      <td>0.000006</td>\n",
       "      <td>0.000272</td>\n",
       "      <td>0.000185</td>\n",
       "      <td>0.0</td>\n",
       "      <td>1.0</td>\n",
       "      <td>1.0</td>\n",
       "      <td>0.0</td>\n",
       "      <td>1.0</td>\n",
       "      <td>0.0</td>\n",
       "      <td>1.0</td>\n",
       "      <td>0.0</td>\n",
       "      <td>1.0</td>\n",
       "      <td>0.0</td>\n",
       "    </tr>\n",
       "    <tr>\n",
       "      <th>207</th>\n",
       "      <td>0.000133</td>\n",
       "      <td>0.001290</td>\n",
       "      <td>0.000084</td>\n",
       "      <td>0.999999</td>\n",
       "      <td>0.000001</td>\n",
       "      <td>0.000306</td>\n",
       "      <td>0.000089</td>\n",
       "      <td>1.0</td>\n",
       "      <td>0.0</td>\n",
       "      <td>0.0</td>\n",
       "      <td>1.0</td>\n",
       "      <td>0.0</td>\n",
       "      <td>1.0</td>\n",
       "      <td>0.0</td>\n",
       "      <td>1.0</td>\n",
       "      <td>0.0</td>\n",
       "      <td>1.0</td>\n",
       "    </tr>\n",
       "    <tr>\n",
       "      <th>208</th>\n",
       "      <td>0.000398</td>\n",
       "      <td>0.000972</td>\n",
       "      <td>0.000341</td>\n",
       "      <td>0.999999</td>\n",
       "      <td>0.000006</td>\n",
       "      <td>0.000824</td>\n",
       "      <td>0.000830</td>\n",
       "      <td>0.0</td>\n",
       "      <td>1.0</td>\n",
       "      <td>1.0</td>\n",
       "      <td>0.0</td>\n",
       "      <td>0.0</td>\n",
       "      <td>1.0</td>\n",
       "      <td>0.0</td>\n",
       "      <td>1.0</td>\n",
       "      <td>0.0</td>\n",
       "      <td>1.0</td>\n",
       "    </tr>\n",
       "  </tbody>\n",
       "</table>\n",
       "<p>209 rows × 17 columns</p>\n",
       "</div>"
      ],
      "text/plain": [
       "          age  creatinine_phosphokinase  ejection_fraction  platelets  \\\n",
       "0    0.001372                  0.011411           0.000784   0.999918   \n",
       "1    0.000309                  0.003031           0.000309   0.999995   \n",
       "2    0.000261                  0.002337           0.000120   0.999997   \n",
       "3    0.000145                  0.000887           0.000164   0.999999   \n",
       "4    0.000272                  0.000625           0.000245   0.999999   \n",
       "..        ...                       ...                ...        ...   \n",
       "204  0.000238                  0.002476           0.000152   0.999996   \n",
       "205  0.000192                  0.000465           0.000154   1.000000   \n",
       "206  0.000168                  0.000201           0.000118   1.000000   \n",
       "207  0.000133                  0.001290           0.000084   0.999999   \n",
       "208  0.000398                  0.000972           0.000341   0.999999   \n",
       "\n",
       "     serum_creatinine  serum_sodium      time  anaemia_no  anaemia_yes  \\\n",
       "0            0.000053      0.002666  0.004902         1.0          0.0   \n",
       "1            0.000006      0.000732  0.000170         0.0          1.0   \n",
       "2            0.000005      0.000546  0.000851         1.0          0.0   \n",
       "3            0.000003      0.000509  0.000633         1.0          0.0   \n",
       "4            0.000005      0.000728  0.000641         1.0          0.0   \n",
       "..                ...           ...       ...         ...          ...   \n",
       "204          0.000003      0.000619  0.000931         1.0          0.0   \n",
       "205          0.000003      0.000500  0.000673         0.0          1.0   \n",
       "206          0.000006      0.000272  0.000185         0.0          1.0   \n",
       "207          0.000001      0.000306  0.000089         1.0          0.0   \n",
       "208          0.000006      0.000824  0.000830         0.0          1.0   \n",
       "\n",
       "     diabetes_no  diabetes_yes  high_blood_pressure_no  \\\n",
       "0            1.0           0.0                     1.0   \n",
       "1            0.0           1.0                     1.0   \n",
       "2            0.0           1.0                     1.0   \n",
       "3            1.0           0.0                     0.0   \n",
       "4            1.0           0.0                     0.0   \n",
       "..           ...           ...                     ...   \n",
       "204          0.0           1.0                     1.0   \n",
       "205          0.0           1.0                     1.0   \n",
       "206          1.0           0.0                     1.0   \n",
       "207          0.0           1.0                     0.0   \n",
       "208          1.0           0.0                     0.0   \n",
       "\n",
       "     high_blood_pressure_yes  sex_no  sex_yes  smoking_no  smoking_yes  \n",
       "0                        0.0     0.0      1.0         0.0          1.0  \n",
       "1                        0.0     1.0      0.0         1.0          0.0  \n",
       "2                        0.0     0.0      1.0         0.0          1.0  \n",
       "3                        1.0     1.0      0.0         1.0          0.0  \n",
       "4                        1.0     0.0      1.0         0.0          1.0  \n",
       "..                       ...     ...      ...         ...          ...  \n",
       "204                      0.0     1.0      0.0         1.0          0.0  \n",
       "205                      0.0     0.0      1.0         1.0          0.0  \n",
       "206                      0.0     1.0      0.0         1.0          0.0  \n",
       "207                      1.0     0.0      1.0         0.0          1.0  \n",
       "208                      1.0     0.0      1.0         0.0          1.0  \n",
       "\n",
       "[209 rows x 17 columns]"
      ]
     },
     "execution_count": 241,
     "metadata": {},
     "output_type": "execute_result"
    }
   ],
   "source": [
    "#this is a normalised dataframe\n",
    "train_normalised_df = pd.DataFrame(train_normalised, columns=x.columns)\n",
    "train_normalised_df"
   ]
  },
  {
   "cell_type": "markdown",
   "id": "a700c191",
   "metadata": {},
   "source": [
    "#### Prepare Label for classification"
   ]
  },
  {
   "cell_type": "code",
   "execution_count": 242,
   "id": "b5a1c5be",
   "metadata": {},
   "outputs": [],
   "source": [
    "#initialisation of Label Encoder which converts labels into vectors\n",
    "le = LabelEncoder()"
   ]
  },
  {
   "cell_type": "code",
   "execution_count": 243,
   "id": "9f79d918",
   "metadata": {},
   "outputs": [],
   "source": [
    "#finding the vectors of the labels (yes or no is converted to 0 or 1)\n",
    "train_label = le.fit_transform(train_label)\n",
    "test_label = le.transform(test_label)"
   ]
  },
  {
   "cell_type": "code",
   "execution_count": 244,
   "id": "26cf4b85",
   "metadata": {},
   "outputs": [],
   "source": [
    "#convert encoded training labels into binary vector\n",
    "train_label= to_categorical(train_label)"
   ]
  },
  {
   "cell_type": "code",
   "execution_count": 245,
   "id": "d6ee6025",
   "metadata": {},
   "outputs": [],
   "source": [
    "#converting test labels into binary vector\n",
    "test_label = to_categorical(test_label)"
   ]
  },
  {
   "cell_type": "markdown",
   "id": "0fe895db",
   "metadata": {},
   "source": [
    "#### Building Model"
   ]
  },
  {
   "cell_type": "code",
   "execution_count": 246,
   "id": "776120ca",
   "metadata": {},
   "outputs": [],
   "source": [
    "model = Sequential()"
   ]
  },
  {
   "cell_type": "code",
   "execution_count": 247,
   "id": "af57ee2b",
   "metadata": {},
   "outputs": [],
   "source": [
    "#input layer\n",
    "input = InputLayer(input_shape = (x.shape[1], ))\n",
    "model.add(input)\n",
    "#shorter version model.add(InputLayer(input_shape = (x.shape[1],)))"
   ]
  },
  {
   "cell_type": "code",
   "execution_count": 248,
   "id": "edcffe83",
   "metadata": {},
   "outputs": [],
   "source": [
    "#hidden layer\n",
    "model.add(Dense(12, activation=\"relu\"))"
   ]
  },
  {
   "cell_type": "code",
   "execution_count": 249,
   "id": "73b77b4e",
   "metadata": {},
   "outputs": [],
   "source": [
    "#output layer\n",
    "#number of neurons depend on the number of classes in the dataset(labels)\n",
    "#we have class of yes or no, so use two neurons in the output\n",
    "model.add(Dense(2, activation=\"softmax\"))\n"
   ]
  },
  {
   "cell_type": "markdown",
   "id": "9a3ffde6",
   "metadata": {},
   "source": [
    "#### Compile & Evaluate"
   ]
  },
  {
   "cell_type": "code",
   "execution_count": 250,
   "id": "57edcaf6",
   "metadata": {},
   "outputs": [],
   "source": [
    "#compiling\n",
    "model.compile(loss=\"categorical_crossentropy\", optimizer=\"adam\", metrics=[\"accuracy\"])"
   ]
  },
  {
   "cell_type": "code",
   "execution_count": 251,
   "id": "7671153f",
   "metadata": {},
   "outputs": [
    {
     "name": "stdout",
     "output_type": "stream",
     "text": [
      "Epoch 1/100\n"
     ]
    },
    {
     "name": "stderr",
     "output_type": "stream",
     "text": [
      "2022-08-17 16:53:25.368175: I tensorflow/core/grappler/optimizers/custom_graph_optimizer_registry.cc:113] Plugin optimizer for device_type GPU is enabled.\n"
     ]
    },
    {
     "name": "stdout",
     "output_type": "stream",
     "text": [
      "14/14 [==============================] - 2s 58ms/step - loss: 0.6717 - accuracy: 0.6124\n",
      "Epoch 2/100\n",
      "14/14 [==============================] - 0s 6ms/step - loss: 0.6432 - accuracy: 0.6651\n",
      "Epoch 3/100\n",
      "14/14 [==============================] - 0s 6ms/step - loss: 0.6345 - accuracy: 0.6746\n",
      "Epoch 4/100\n",
      "14/14 [==============================] - 0s 6ms/step - loss: 0.6324 - accuracy: 0.6842\n",
      "Epoch 5/100\n",
      "14/14 [==============================] - 0s 6ms/step - loss: 0.6317 - accuracy: 0.6842\n",
      "Epoch 6/100\n",
      "14/14 [==============================] - 0s 6ms/step - loss: 0.6320 - accuracy: 0.6746\n",
      "Epoch 7/100\n",
      "14/14 [==============================] - 0s 6ms/step - loss: 0.6289 - accuracy: 0.6699\n",
      "Epoch 8/100\n",
      "14/14 [==============================] - 0s 6ms/step - loss: 0.6264 - accuracy: 0.6842\n",
      "Epoch 9/100\n",
      "14/14 [==============================] - 0s 6ms/step - loss: 0.6270 - accuracy: 0.6890\n",
      "Epoch 10/100\n",
      "14/14 [==============================] - 0s 6ms/step - loss: 0.6258 - accuracy: 0.6938\n",
      "Epoch 11/100\n",
      "14/14 [==============================] - 0s 6ms/step - loss: 0.6260 - accuracy: 0.6842\n",
      "Epoch 12/100\n",
      "14/14 [==============================] - 0s 7ms/step - loss: 0.6268 - accuracy: 0.6842\n",
      "Epoch 13/100\n",
      "14/14 [==============================] - 0s 6ms/step - loss: 0.6247 - accuracy: 0.6842\n",
      "Epoch 14/100\n",
      "14/14 [==============================] - 0s 6ms/step - loss: 0.6234 - accuracy: 0.6842\n",
      "Epoch 15/100\n",
      "14/14 [==============================] - 0s 6ms/step - loss: 0.6263 - accuracy: 0.6746\n",
      "Epoch 16/100\n",
      "14/14 [==============================] - 0s 6ms/step - loss: 0.6243 - accuracy: 0.6746\n",
      "Epoch 17/100\n",
      "14/14 [==============================] - 0s 6ms/step - loss: 0.6254 - accuracy: 0.6842\n",
      "Epoch 18/100\n",
      "14/14 [==============================] - 0s 6ms/step - loss: 0.6210 - accuracy: 0.6842\n",
      "Epoch 19/100\n",
      "14/14 [==============================] - 0s 6ms/step - loss: 0.6227 - accuracy: 0.6842\n",
      "Epoch 20/100\n",
      "14/14 [==============================] - 0s 6ms/step - loss: 0.6222 - accuracy: 0.6842\n",
      "Epoch 21/100\n",
      "14/14 [==============================] - 0s 6ms/step - loss: 0.6197 - accuracy: 0.6842\n",
      "Epoch 22/100\n",
      "14/14 [==============================] - 0s 6ms/step - loss: 0.6212 - accuracy: 0.6794\n",
      "Epoch 23/100\n",
      "14/14 [==============================] - 0s 6ms/step - loss: 0.6218 - accuracy: 0.6746\n",
      "Epoch 24/100\n",
      "14/14 [==============================] - 0s 6ms/step - loss: 0.6204 - accuracy: 0.6746\n",
      "Epoch 25/100\n",
      "14/14 [==============================] - 0s 6ms/step - loss: 0.6202 - accuracy: 0.6746\n",
      "Epoch 26/100\n",
      "14/14 [==============================] - 0s 6ms/step - loss: 0.6194 - accuracy: 0.6842\n",
      "Epoch 27/100\n",
      "14/14 [==============================] - 0s 6ms/step - loss: 0.6185 - accuracy: 0.6794\n",
      "Epoch 28/100\n",
      "14/14 [==============================] - 0s 6ms/step - loss: 0.6184 - accuracy: 0.6746\n",
      "Epoch 29/100\n",
      "14/14 [==============================] - 0s 6ms/step - loss: 0.6195 - accuracy: 0.6746\n",
      "Epoch 30/100\n",
      "14/14 [==============================] - 0s 6ms/step - loss: 0.6184 - accuracy: 0.6746\n",
      "Epoch 31/100\n",
      "14/14 [==============================] - 0s 6ms/step - loss: 0.6208 - accuracy: 0.6746\n",
      "Epoch 32/100\n",
      "14/14 [==============================] - 0s 6ms/step - loss: 0.6173 - accuracy: 0.6794\n",
      "Epoch 33/100\n",
      "14/14 [==============================] - 0s 6ms/step - loss: 0.6172 - accuracy: 0.6794\n",
      "Epoch 34/100\n",
      "14/14 [==============================] - 0s 6ms/step - loss: 0.6179 - accuracy: 0.6842\n",
      "Epoch 35/100\n",
      "14/14 [==============================] - 0s 6ms/step - loss: 0.6162 - accuracy: 0.6746\n",
      "Epoch 36/100\n",
      "14/14 [==============================] - 0s 6ms/step - loss: 0.6163 - accuracy: 0.6746\n",
      "Epoch 37/100\n",
      "14/14 [==============================] - 0s 6ms/step - loss: 0.6172 - accuracy: 0.6746\n",
      "Epoch 38/100\n",
      "14/14 [==============================] - 0s 6ms/step - loss: 0.6170 - accuracy: 0.6746\n",
      "Epoch 39/100\n",
      "14/14 [==============================] - 0s 6ms/step - loss: 0.6181 - accuracy: 0.6746\n",
      "Epoch 40/100\n",
      "14/14 [==============================] - 0s 6ms/step - loss: 0.6173 - accuracy: 0.6746\n",
      "Epoch 41/100\n",
      "14/14 [==============================] - 0s 6ms/step - loss: 0.6166 - accuracy: 0.6746\n",
      "Epoch 42/100\n",
      "14/14 [==============================] - 0s 6ms/step - loss: 0.6159 - accuracy: 0.6746\n",
      "Epoch 43/100\n",
      "14/14 [==============================] - 0s 6ms/step - loss: 0.6148 - accuracy: 0.6794\n",
      "Epoch 44/100\n",
      "14/14 [==============================] - 0s 6ms/step - loss: 0.6187 - accuracy: 0.6842\n",
      "Epoch 45/100\n",
      "14/14 [==============================] - 0s 6ms/step - loss: 0.6160 - accuracy: 0.6794\n",
      "Epoch 46/100\n",
      "14/14 [==============================] - 0s 6ms/step - loss: 0.6133 - accuracy: 0.6746\n",
      "Epoch 47/100\n",
      "14/14 [==============================] - 0s 6ms/step - loss: 0.6149 - accuracy: 0.6746\n",
      "Epoch 48/100\n",
      "14/14 [==============================] - 0s 7ms/step - loss: 0.6149 - accuracy: 0.6746\n",
      "Epoch 49/100\n",
      "14/14 [==============================] - 0s 6ms/step - loss: 0.6125 - accuracy: 0.6746\n",
      "Epoch 50/100\n",
      "14/14 [==============================] - 0s 6ms/step - loss: 0.6143 - accuracy: 0.6746\n",
      "Epoch 51/100\n",
      "14/14 [==============================] - 0s 6ms/step - loss: 0.6142 - accuracy: 0.6746\n",
      "Epoch 52/100\n",
      "14/14 [==============================] - 0s 6ms/step - loss: 0.6124 - accuracy: 0.6746\n",
      "Epoch 53/100\n",
      "14/14 [==============================] - 0s 6ms/step - loss: 0.6133 - accuracy: 0.6746\n",
      "Epoch 54/100\n",
      "14/14 [==============================] - 0s 6ms/step - loss: 0.6139 - accuracy: 0.6746\n",
      "Epoch 55/100\n",
      "14/14 [==============================] - 0s 6ms/step - loss: 0.6138 - accuracy: 0.6746\n",
      "Epoch 56/100\n",
      "14/14 [==============================] - 0s 6ms/step - loss: 0.6136 - accuracy: 0.6746\n",
      "Epoch 57/100\n",
      "14/14 [==============================] - 0s 6ms/step - loss: 0.6138 - accuracy: 0.6746\n",
      "Epoch 58/100\n",
      "14/14 [==============================] - 0s 6ms/step - loss: 0.6128 - accuracy: 0.6746\n",
      "Epoch 59/100\n",
      "14/14 [==============================] - 0s 6ms/step - loss: 0.6129 - accuracy: 0.6938\n",
      "Epoch 60/100\n",
      "14/14 [==============================] - 0s 6ms/step - loss: 0.6120 - accuracy: 0.6890\n",
      "Epoch 61/100\n",
      "14/14 [==============================] - 0s 6ms/step - loss: 0.6122 - accuracy: 0.6890\n",
      "Epoch 62/100\n",
      "14/14 [==============================] - 0s 6ms/step - loss: 0.6162 - accuracy: 0.6938\n",
      "Epoch 63/100\n",
      "14/14 [==============================] - 0s 6ms/step - loss: 0.6160 - accuracy: 0.6938\n",
      "Epoch 64/100\n",
      "14/14 [==============================] - 0s 6ms/step - loss: 0.6152 - accuracy: 0.6890\n",
      "Epoch 65/100\n",
      "14/14 [==============================] - 0s 6ms/step - loss: 0.6138 - accuracy: 0.6938\n",
      "Epoch 66/100\n",
      "14/14 [==============================] - 0s 6ms/step - loss: 0.6111 - accuracy: 0.6794\n",
      "Epoch 67/100\n",
      "14/14 [==============================] - 0s 6ms/step - loss: 0.6116 - accuracy: 0.6794\n",
      "Epoch 68/100\n",
      "14/14 [==============================] - 0s 6ms/step - loss: 0.6119 - accuracy: 0.6794\n",
      "Epoch 69/100\n",
      "14/14 [==============================] - 0s 6ms/step - loss: 0.6105 - accuracy: 0.6794\n",
      "Epoch 70/100\n",
      "14/14 [==============================] - 0s 6ms/step - loss: 0.6119 - accuracy: 0.6938\n",
      "Epoch 71/100\n",
      "14/14 [==============================] - 0s 6ms/step - loss: 0.6106 - accuracy: 0.6938\n",
      "Epoch 72/100\n",
      "14/14 [==============================] - 0s 6ms/step - loss: 0.6109 - accuracy: 0.6890\n",
      "Epoch 73/100\n",
      "14/14 [==============================] - 0s 6ms/step - loss: 0.6103 - accuracy: 0.6986\n",
      "Epoch 74/100\n",
      "14/14 [==============================] - 0s 7ms/step - loss: 0.6107 - accuracy: 0.6890\n",
      "Epoch 75/100\n",
      "14/14 [==============================] - 0s 6ms/step - loss: 0.6103 - accuracy: 0.6938\n",
      "Epoch 76/100\n",
      "14/14 [==============================] - 0s 6ms/step - loss: 0.6108 - accuracy: 0.6890\n",
      "Epoch 77/100\n",
      "14/14 [==============================] - 0s 6ms/step - loss: 0.6105 - accuracy: 0.6938\n",
      "Epoch 78/100\n",
      "14/14 [==============================] - 0s 6ms/step - loss: 0.6120 - accuracy: 0.6938\n",
      "Epoch 79/100\n",
      "14/14 [==============================] - 0s 6ms/step - loss: 0.6114 - accuracy: 0.6938\n",
      "Epoch 80/100\n",
      "14/14 [==============================] - 0s 6ms/step - loss: 0.6105 - accuracy: 0.6890\n",
      "Epoch 81/100\n",
      "14/14 [==============================] - 0s 6ms/step - loss: 0.6099 - accuracy: 0.6938\n",
      "Epoch 82/100\n",
      "14/14 [==============================] - 0s 6ms/step - loss: 0.6117 - accuracy: 0.6938\n",
      "Epoch 83/100\n"
     ]
    },
    {
     "name": "stdout",
     "output_type": "stream",
     "text": [
      "14/14 [==============================] - 0s 6ms/step - loss: 0.6114 - accuracy: 0.6938\n",
      "Epoch 84/100\n",
      "14/14 [==============================] - 0s 6ms/step - loss: 0.6095 - accuracy: 0.6938\n",
      "Epoch 85/100\n",
      "14/14 [==============================] - 0s 6ms/step - loss: 0.6090 - accuracy: 0.6938\n",
      "Epoch 86/100\n",
      "14/14 [==============================] - 0s 6ms/step - loss: 0.6085 - accuracy: 0.6938\n",
      "Epoch 87/100\n",
      "14/14 [==============================] - 0s 6ms/step - loss: 0.6074 - accuracy: 0.6890\n",
      "Epoch 88/100\n",
      "14/14 [==============================] - 0s 6ms/step - loss: 0.6082 - accuracy: 0.6890\n",
      "Epoch 89/100\n",
      "14/14 [==============================] - 0s 6ms/step - loss: 0.6086 - accuracy: 0.6890\n",
      "Epoch 90/100\n",
      "14/14 [==============================] - 0s 6ms/step - loss: 0.6085 - accuracy: 0.6794\n",
      "Epoch 91/100\n",
      "14/14 [==============================] - 0s 6ms/step - loss: 0.6067 - accuracy: 0.6794\n",
      "Epoch 92/100\n",
      "14/14 [==============================] - 0s 6ms/step - loss: 0.6071 - accuracy: 0.6794\n",
      "Epoch 93/100\n",
      "14/14 [==============================] - 0s 6ms/step - loss: 0.6083 - accuracy: 0.6794\n",
      "Epoch 94/100\n",
      "14/14 [==============================] - 0s 6ms/step - loss: 0.6071 - accuracy: 0.6794\n",
      "Epoch 95/100\n",
      "14/14 [==============================] - 0s 6ms/step - loss: 0.6068 - accuracy: 0.6794\n",
      "Epoch 96/100\n",
      "14/14 [==============================] - 0s 6ms/step - loss: 0.6102 - accuracy: 0.6938\n",
      "Epoch 97/100\n",
      "14/14 [==============================] - 0s 6ms/step - loss: 0.6087 - accuracy: 0.6938\n",
      "Epoch 98/100\n",
      "14/14 [==============================] - 0s 6ms/step - loss: 0.6082 - accuracy: 0.6938\n",
      "Epoch 99/100\n",
      "14/14 [==============================] - 0s 6ms/step - loss: 0.6093 - accuracy: 0.6938\n",
      "Epoch 100/100\n",
      "14/14 [==============================] - 0s 6ms/step - loss: 0.6096 - accuracy: 0.6986\n"
     ]
    },
    {
     "data": {
      "text/plain": [
       "<keras.callbacks.History at 0x10a708a30>"
      ]
     },
     "execution_count": 251,
     "metadata": {},
     "output_type": "execute_result"
    }
   ],
   "source": [
    "#evaluating\n",
    "model.fit(train_normalised, train_label, epochs=100, batch_size=16, verbose=1)\n"
   ]
  },
  {
   "cell_type": "code",
   "execution_count": 252,
   "id": "c91efebf",
   "metadata": {},
   "outputs": [
    {
     "name": "stderr",
     "output_type": "stream",
     "text": [
      "2022-08-17 16:55:11.672765: I tensorflow/core/grappler/optimizers/custom_graph_optimizer_registry.cc:113] Plugin optimizer for device_type GPU is enabled.\n"
     ]
    }
   ],
   "source": [
    "loss, accuracy = model.evaluate(test_normalised, test_label, verbose=0)"
   ]
  },
  {
   "cell_type": "code",
   "execution_count": 253,
   "id": "d1fe8021",
   "metadata": {},
   "outputs": [
    {
     "data": {
      "text/plain": [
       "(0.6470140814781189, 0.6666666865348816)"
      ]
     },
     "execution_count": 253,
     "metadata": {},
     "output_type": "execute_result"
    }
   ],
   "source": [
    "loss, accuracy"
   ]
  },
  {
   "cell_type": "markdown",
   "id": "27c1fa44",
   "metadata": {},
   "source": [
    "#### Generating a classification report"
   ]
  },
  {
   "cell_type": "code",
   "execution_count": 261,
   "id": "24ae6b0d",
   "metadata": {},
   "outputs": [
    {
     "name": "stdout",
     "output_type": "stream",
     "text": [
      "3/3 [==============================] - 0s 6ms/step\n"
     ]
    }
   ],
   "source": [
    "y_estimate = model.predict(test_normalised)"
   ]
  },
  {
   "cell_type": "code",
   "execution_count": 262,
   "id": "a0358131",
   "metadata": {},
   "outputs": [],
   "source": [
    "#convert into a np array using argmax\n",
    "y_estimate =  np.argmax(y_estimate, axis=1)"
   ]
  },
  {
   "cell_type": "code",
   "execution_count": 263,
   "id": "e56bf47c",
   "metadata": {},
   "outputs": [],
   "source": [
    "y_true = np.argmax(test_label, axis=1)"
   ]
  },
  {
   "cell_type": "code",
   "execution_count": 265,
   "id": "d6ca969b",
   "metadata": {},
   "outputs": [],
   "source": [
    "report = classification_report(y_true, y_estimate)"
   ]
  },
  {
   "cell_type": "code",
   "execution_count": 266,
   "id": "65185574",
   "metadata": {},
   "outputs": [
    {
     "data": {
      "text/plain": [
       "['              precision    recall  f1-score   support',\n",
       " '',\n",
       " '           0       0.70      0.92      0.79        62',\n",
       " '           1       0.38      0.11      0.17        28',\n",
       " '',\n",
       " '    accuracy                           0.67        90',\n",
       " '   macro avg       0.54      0.51      0.48        90',\n",
       " 'weighted avg       0.60      0.67      0.60        90',\n",
       " '']"
      ]
     },
     "execution_count": 266,
     "metadata": {},
     "output_type": "execute_result"
    }
   ],
   "source": [
    "report.split(\"\\n\")"
   ]
  },
  {
   "cell_type": "code",
   "execution_count": null,
   "id": "af8794da",
   "metadata": {},
   "outputs": [],
   "source": []
  }
 ],
 "metadata": {
  "kernelspec": {
   "display_name": "Python 3 (ipykernel)",
   "language": "python",
   "name": "python3"
  },
  "language_info": {
   "codemirror_mode": {
    "name": "ipython",
    "version": 3
   },
   "file_extension": ".py",
   "mimetype": "text/x-python",
   "name": "python",
   "nbconvert_exporter": "python",
   "pygments_lexer": "ipython3",
   "version": "3.8.13"
  }
 },
 "nbformat": 4,
 "nbformat_minor": 5
}
